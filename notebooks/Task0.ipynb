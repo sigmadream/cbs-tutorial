{
 "cells": [
  {
   "cell_type": "markdown",
   "source": [
    "# Tasks.0\n",
    "\n",
    "> 이 프로젝트에서는 Multi-Agent Path Finding (MAPF)에 대해 배우고 Single-Agent의 Solver[^1] A*와 3가지 MAPF 알고리즘인 prioritized planning, Conﬂict-Based Search (CBS), CBS with disjoint splitting를 학습합니다.\n",
    "\n",
    "[^1] Computer Aided Engineering는 일반적으로 `Pre-Solve-Post` 이렇게 3단계로 이루어지는데, 이 때 직접적인 문제 풀이를 담당하는 과정을 Solve라고 하며, Solve를 담당하는 것을 Solver라고 함."
   ],
   "metadata": {
    "collapsed": false
   }
  },
  {
   "cell_type": "markdown",
   "source": [
    "## Python3 설치\n",
    "\n",
    " Python3(>= 3.10)를 설치하고, 필수 라이브러리(`Numpy`, `Matplotlib`)를 설치하세요."
   ],
   "metadata": {
    "collapsed": false
   }
  },
  {
   "cell_type": "markdown",
   "source": [
    "## 간단한 실행\n",
    "\n",
    "```\n",
    "$ (venv) python run_experiments.py --instance instances/exp0.txt --solver Independent\n",
    "```"
   ],
   "metadata": {
    "collapsed": false
   }
  },
  {
   "cell_type": "markdown",
   "source": [
    "## Independent Planning\n",
    "\n",
    "Independent Planning는 모든 에이전트의 경로를 각각의 에이전트에 대한 독립적인 방식으로 계획합니다. 그들의 경로는 환경과 충돌하지 않지만 다른 에이전트의 경로와 충돌할 수 있습니다. `간단한 실행`을 통해서 시각적으로 확인할 수 있습니다."
   ],
   "metadata": {
    "collapsed": false
   }
  },
  {
   "cell_type": "markdown",
   "source": [
    "## IndependentSolver의 이해\n",
    "\n",
    "`compute_heuristics`를 사용하여 조회 테이블을 구성합니다.\n",
    "\n",
    "```\n",
    "class IndependentSolver(object):\n",
    "    def __init__(self, my_map, starts, goals):\n",
    "        # [...]\n",
    "        # compute heuristic values for the A* search\n",
    "        self.heuristics = []\n",
    "\n",
    "        for goal in self.goals:\n",
    "            self.heuristics.append(compute_heuristics(my_map, goal))\n",
    "```\n",
    "\n",
    "`a_star`에선 에이전트의 고유한 ID 및 제약 조건을 입력으로 받고, `A*`를 사용해서 경로를 계산합니다. `IndependentSolver의`는 별도의 제약 조건을 사용하지 않습니다.\n",
    "\n",
    "```\n",
    "def find_solution(self):\n",
    "    for i in range(self.num_of_agents):  # Find path for each agent\n",
    "        path = a_star(self.my_map, self.starts[i], self.goals[i], self.heuristics[i],\n",
    "                      i, [])\n",
    "        if path is None:\n",
    "            raise BaseException('No solutions')\n",
    "        result.append(path)\n",
    "```"
   ],
   "metadata": {
    "collapsed": false
   },
   "outputs": [
    {
     "ename": "SyntaxError",
     "evalue": "invalid syntax (3344493264.py, line 3)",
     "output_type": "error",
     "traceback": [
      "\u001B[1;36m  Cell \u001B[1;32mIn[1], line 3\u001B[1;36m\u001B[0m\n\u001B[1;33m    ```\u001B[0m\n\u001B[1;37m    ^\u001B[0m\n\u001B[1;31mSyntaxError\u001B[0m\u001B[1;31m:\u001B[0m invalid syntax\n"
     ]
    }
   ],
   "execution_count": 1
  },
  {
   "cell_type": "code",
   "execution_count": null,
   "outputs": [],
   "source": [],
   "metadata": {
    "collapsed": false
   }
  }
 ],
 "metadata": {
  "kernelspec": {
   "display_name": "Python 3",
   "language": "python",
   "name": "python3"
  },
  "language_info": {
   "codemirror_mode": {
    "name": "ipython",
    "version": 2
   },
   "file_extension": ".py",
   "mimetype": "text/x-python",
   "name": "python",
   "nbconvert_exporter": "python",
   "pygments_lexer": "ipython2",
   "version": "2.7.6"
  }
 },
 "nbformat": 4,
 "nbformat_minor": 0
}
